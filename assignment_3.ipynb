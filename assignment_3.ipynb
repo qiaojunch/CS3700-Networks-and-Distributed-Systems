{
  "nbformat": 4,
  "nbformat_minor": 0,
  "metadata": {
    "colab": {
      "provenance": [],
      "gpuType": "T4",
      "authorship_tag": "ABX9TyMjBqCXGrIykC80I2rSh/Fk",
      "include_colab_link": true
    },
    "kernelspec": {
      "name": "python3",
      "display_name": "Python 3"
    },
    "language_info": {
      "name": "python"
    },
    "accelerator": "GPU"
  },
  "cells": [
    {
      "cell_type": "markdown",
      "metadata": {
        "id": "view-in-github",
        "colab_type": "text"
      },
      "source": [
        "<a href=\"https://colab.research.google.com/github/qiaojunch/CS3700-Networks-and-Distributed-Systems/blob/master/assignment_3.ipynb\" target=\"_parent\"><img src=\"https://colab.research.google.com/assets/colab-badge.svg\" alt=\"Open In Colab\"/></a>"
      ]
    },
    {
      "cell_type": "markdown",
      "source": [
        "## 1 - Simple Recommend-Friend Algorithm\n"
      ],
      "metadata": {
        "id": "2jbgOMN6fmwQ"
      }
    },
    {
      "cell_type": "code",
      "execution_count": 72,
      "metadata": {
        "id": "d_lADRB-WE_3"
      },
      "outputs": [],
      "source": [
        "import numpy as np\n",
        "import matplotlib.pyplot as plt"
      ]
    },
    {
      "cell_type": "code",
      "source": [
        "# Get data from txt file\n",
        "data_path = '/content/soc-LiveJournal1Adj.txt'\n"
      ],
      "metadata": {
        "id": "c0MOsSkCWrme"
      },
      "execution_count": 73,
      "outputs": []
    },
    {
      "cell_type": "code",
      "source": [
        "\n",
        "def read_txt_file(file_path):\n",
        "    user_data = {}  # Dictionary to store UserID as int and User's friends as list of int\n",
        "\n",
        "    try:\n",
        "        with open(file_path, 'r') as file:\n",
        "            for line in file:\n",
        "                parts = line.strip().split('\\t')\n",
        "\n",
        "                # Check informatted line input\n",
        "                if len(parts) < 2 or parts[0] == '':\n",
        "                  continue\n",
        "                user_id = int(parts[0])\n",
        "                friends = [int(friend) for friend in parts[1].split(',') if friend != '']\n",
        "                user_data[user_id] = friends\n",
        "    except Exception as e:\n",
        "        print(f\"An error occurred: {e}\")\n",
        "\n",
        "    return user_data\n"
      ],
      "metadata": {
        "id": "VrTqZiwLZb9x"
      },
      "execution_count": 74,
      "outputs": []
    },
    {
      "cell_type": "code",
      "source": [
        "user_data = read_txt_file(data_path)\n",
        "print(len(user_data))\n"
      ],
      "metadata": {
        "colab": {
          "base_uri": "https://localhost:8080/"
        },
        "id": "iWnG3zTP12GT",
        "outputId": "b8185567-e488-4e40-dfc5-9252f810ce33"
      },
      "execution_count": 59,
      "outputs": [
        {
          "output_type": "stream",
          "name": "stdout",
          "text": [
            "49124\n"
          ]
        }
      ]
    },
    {
      "cell_type": "code",
      "source": [
        "from typing import DefaultDict\n",
        "\n",
        "def recommend_friends(user_data, top_n=10):\n",
        "    \"\"\"\n",
        "    user_data: map {user_id, [other_user1, other_user2, ...]}\n",
        "    return recommendations: {user1:[other1, other2, ..., otherN]], user2:[...], ...}\n",
        "    \"\"\"\n",
        "    recommendations = DefaultDict(list)\n",
        "\n",
        "    for user_id, user_friends in user_data.items():\n",
        "      ## get friend's mutual friends\n",
        "      # 1: [2, 3, 5]\n",
        "      mutual_friends_list = []\n",
        "      for other_id, other_friends in user_data.items():\n",
        "          # Find friend in common for two users if they are not friend\n",
        "          if other_id != user_id and other_id not in user_friends:\n",
        "            mutual_friends = set(user_friends).intersection(other_friends)\n",
        "            mutual_friends_count = len(mutual_friends)\n",
        "            if mutual_friends_count == 0:\n",
        "              continue\n",
        "            mutual_friends_list.append((mutual_friends_count, other_id))\n",
        "\n",
        "\n",
        "      ## sort by number of mutual friends and get the topN recommendations\n",
        "      ## mutual friends: [(num_mutual_friends1, other1), (num_mutual_friends2, other2), ...]\n",
        "      sort_mutual_friends = sorted(mutual_friends_list, key=lambda x: x[0], reverse=True)[:top_n]\n",
        "\n",
        "      ## collect mutual friends for each user in data\n",
        "      recommendations[user_id] = [x[1] for x in sort_mutual_friends]\n",
        "\n",
        "    return recommendations\n"
      ],
      "metadata": {
        "id": "V8xXik6Aa5Ax"
      },
      "execution_count": 83,
      "outputs": []
    },
    {
      "cell_type": "code",
      "source": [
        "# output format: <usr_id><tab><friend_list>\n",
        "# test_data = read_txt_file(\"/content/test.txt\")\n",
        "\n",
        "simple_recomm = recommend_friends(user_data)\n",
        "ids = [924, 8941, 8942, 9019, 9020, 9021, 9022, 9990, 9992, 9993]\n",
        "\n",
        "# ids = [1, 2, 3, 4, 5, 6, 10]\n",
        "for id in ids:\n",
        "  recomm_str = ','.join([str(item) for item in simple_recomm[id]])\n",
        "  print(f\"{id}\\t{recomm_str}\")\n"
      ],
      "metadata": {
        "id": "Hg6elQxPee52"
      },
      "execution_count": null,
      "outputs": []
    },
    {
      "cell_type": "markdown",
      "source": [
        "## 2 - Recommend-Friend Algo using PySpark"
      ],
      "metadata": {
        "id": "Gq_1feVnfy7h"
      }
    },
    {
      "cell_type": "code",
      "source": [
        "#@title Download and install the PySpark packages\n",
        "\n",
        "!pip install pyspark\n",
        "!pip install -U -q PyDrive\n",
        "!apt install openjdk-8-jdk-headless -qq\n",
        "import os\n",
        "os.environ[\"JAVA_HOME\"] = \"/usr/lib/jvm/java-8-openjdk-amd64\""
      ],
      "metadata": {
        "id": "B8HnCKHJf5E9",
        "cellView": "form"
      },
      "execution_count": null,
      "outputs": []
    },
    {
      "cell_type": "markdown",
      "source": [
        "Description of mapReduce algo:\n",
        "\n",
        "In a Spark-based solution for this problem, I would use the distributed computing capabilities of Apache Spark to efficiently process the large dataset. I would load the data into a Spark DataFrame, perform necessary transformations to calculate mutual friends, and then use Spark's built-in functions for sorting and selecting the top N recommendations for each user. The parallelized nature of Spark allows for scalability and efficient processing of the algorithm across a cluster of machines."
      ],
      "metadata": {
        "id": "smo-gXozkJ4L"
      }
    },
    {
      "cell_type": "code",
      "source": [
        "from pyspark import SparkContext"
      ],
      "metadata": {
        "id": "WHDjLTWxh_jW"
      },
      "execution_count": 65,
      "outputs": []
    },
    {
      "cell_type": "code",
      "source": [
        "def get_relations(line):\n",
        "  parts = line.split('\\t')\n",
        "\n",
        "  # check incorrect formatted line or no frirends\n",
        "  if len(parts) < 2 or parts[0] == '':\n",
        "    return []\n",
        "  person = int(parts[0])\n",
        "  friends = parts[1].split(',')\n",
        "\n",
        "  # map the relation of a,b to 1 is they are friend, or 0 if not\n",
        "  # example: ((a, b), 0) => a, b are friends\n",
        "  #          ((a, c), 1) => a, c are not friends\n",
        "  friends_list = [((person, int(friend)), 0) for friend in friends if friend != '']\n",
        "  mutual_friend_list = []\n",
        "\n",
        "  for i in range(0, len(friends)-1):\n",
        "    for j in range(i+1, len(friends)):\n",
        "      a, b = int(friends[i]), int(friends[j])\n",
        "      mutual_friend_list.append(((a, b), 1))\n",
        "      mutual_friend_list.append(((b, a), 1))\n",
        "\n",
        "  return friends_list + mutual_friend_list"
      ],
      "metadata": {
        "id": "JBrTx0gYJxhm"
      },
      "execution_count": 66,
      "outputs": []
    },
    {
      "cell_type": "code",
      "source": [
        "def recommend_new_friends(person_and_strangers, n=10):\n",
        "  \"\"\"\n",
        "  person_and_strangers: (p, [(s1, num_mutual_friends), (s2, num_mutual_friends),...(sN, num_mutual_friends))\n",
        "  n: number of friends to recommend\n",
        "  return: a list of up to n strangers to recommend as friends\n",
        "  \"\"\"\n",
        "\n",
        "  person, list_of_strangers = person_and_strangers\n",
        "\n",
        "  # Sort the list_of_strangers by top n mutual friends with person\n",
        "  # x: (stranger, num_mutual_friends)\n",
        "  ordered_list_of_strangers = sorted(list_of_strangers,\n",
        "                                     key=lambda x: (-x[1], x[0]))[:n]\n",
        "\n",
        "  # Pass ordered_list_of_strangers to lambda function and return strangers list who has top-N mutual friends\n",
        "  # x: (stranger, num_mutual_friends)\n",
        "  recommendations = map(lambda x: x[0], ordered_list_of_strangers)\n",
        "\n",
        "  return person, list(recommendations)"
      ],
      "metadata": {
        "id": "XnFHJagOnfRR"
      },
      "execution_count": 67,
      "outputs": []
    },
    {
      "cell_type": "code",
      "source": [
        "# Initialize spark configuration and context\n",
        "sc = SparkContext(appName=\"recommend-friends\")\n",
        "\n",
        "# Parse data and create relationship map\n",
        "data_rdd = sc.textFile(data_path)\n",
        "relationship_pairs = data_rdd.flatMap(lambda line: get_relations(line))\n",
        "already_friends = relationship_pairs.filter(lambda x: x[1] == 0)\n",
        "\n",
        "# pair_and_count: [((p1, s1), num_of_mutual_friends), ...]\n",
        "pair_and_count = relationship_pairs.subtractByKey(already_friends).reduceByKey(lambda a, b: a + b)\n",
        "\n",
        "# person_and_friends: [(p1, (s1, num_of_mutual_friens)), (p2, (s2, num_of_mutual_friends)), ...]\n",
        "person_and_strangers = pair_and_count.map(lambda x: (x[0][0], (x[0][1], x[1]))) \\\n",
        "                        .groupByKey() \\\n",
        "                        .mapValues(list)\n",
        "\n",
        "# Find recommendations for person\n",
        "recommendations = person_and_strangers.map(lambda x: recommend_new_friends(x))\n",
        "\n",
        "\n",
        "# Export output\n",
        "# recommendations: [(person1, recommendation_list1), (person2, recommendaton_list2), ...]\n",
        "recommendations \\\n",
        "  .map(lambda item: f\"{item[0]}\\t{','.join(map(lambda x: str(x), item[1]))}\") \\\n",
        "  .saveAsTextFile(\"/content/output\")\n",
        "\n",
        "sc.stop()"
      ],
      "metadata": {
        "id": "TUUA0nz_s85q"
      },
      "execution_count": 68,
      "outputs": []
    },
    {
      "cell_type": "markdown",
      "source": [
        "After done with recommendations algorithm, we want to save the result as output.txt file, and print out the recommendations result for a specific person list."
      ],
      "metadata": {
        "id": "R0QLRFRLnvPG"
      }
    },
    {
      "cell_type": "code",
      "source": [
        "path1 = \"/content/output/part-00000\"\n",
        "path2 = \"/content/output/part-00001\"\n",
        "path3 = \"/content/output/part-00003\"\n",
        "\n",
        "outputName = \"output.txt\"\n",
        "inputNames = [path1, path2, path3]\n",
        "friends_map = DefaultDict(str)\n",
        "\n",
        "\n",
        "def parse_file(line):\n",
        "  parts = line.split(\"\\t\")\n",
        "\n",
        "  # check incorrect formatted line or no frirends\n",
        "  if len(parts) < 2 or parts[0] == \"\":\n",
        "    return []\n",
        "  person = int(parts[0])\n",
        "  friends = parts[1]\n",
        "\n",
        "  return person, friends\n",
        "\n",
        "\n",
        "for inputName in inputNames:\n",
        "  with open(inputName, \"r\") as inFile:\n",
        "\n",
        "    for line in inFile.readlines():\n",
        "      person, friends = parse_file(line)\n",
        "      friends_map[person] = friends\n",
        "\n",
        "# Sort all input by person ID\n",
        "sort_friends_map = sorted(friends_map.items())\n",
        "\n",
        "# Write sorted friends_map to a output file\n",
        "with open(outputName, \"w\") as outFile:\n",
        "\n",
        "  for item in sort_friends_map:\n",
        "    line = f\"{item[0]}\\t{item[1]}\"\n",
        "    outFile.write(line)\n",
        "\n",
        "# Print test result\n",
        "person_list = [924, 8941, 8942, 9019, 9020, 9021, 9022, 9990, 9992, 9993]\n",
        "for p in person_list:\n",
        "  print(f\"{p}\\t{friends_map[p]}\")\n"
      ],
      "metadata": {
        "colab": {
          "base_uri": "https://localhost:8080/"
        },
        "id": "V06mYGEwXZBU",
        "outputId": "01f8de09-c129-4dfc-9c71-2d915223051d"
      },
      "execution_count": 69,
      "outputs": [
        {
          "output_type": "stream",
          "name": "stdout",
          "text": [
            "924\t439,2409,6995,11860,15416,43748,45881\n",
            "\n",
            "8941\t8943,8944,8940\n",
            "\n",
            "8942\t\n",
            "9019\t9022,317,9023\n",
            "\n",
            "9020\t9021,9016,9017,9022,317,9023\n",
            "\n",
            "9021\t9020,9016,9017,9022,317,9023\n",
            "\n",
            "9022\t\n",
            "9990\t\n",
            "9992\t9987,9989,35667,9991\n",
            "\n",
            "9993\t9991,13134,13478,13877,34299,34485,34642,37941\n",
            "\n"
          ]
        }
      ]
    }
  ]
}