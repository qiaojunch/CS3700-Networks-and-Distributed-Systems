{
  "cells": [
    {
      "cell_type": "markdown",
      "metadata": {
        "id": "view-in-github",
        "colab_type": "text"
      },
      "source": [
        "<a href=\"https://colab.research.google.com/github/qiaojunch/CS3700-Networks-and-Distributed-Systems/blob/master/Assignment_1.ipynb\" target=\"_parent\"><img src=\"https://colab.research.google.com/assets/colab-badge.svg\" alt=\"Open In Colab\"/></a>"
      ]
    },
    {
      "cell_type": "markdown",
      "source": [
        "# CS6220 Data Mining: Assignment 1\n"
      ],
      "metadata": {
        "id": "CbgkMx-5pQZs"
      }
    },
    {
      "cell_type": "code",
      "source": [
        "import pandas as pd"
      ],
      "metadata": {
        "id": "5r6WsgkIpFMc"
      },
      "execution_count": 4,
      "outputs": []
    },
    {
      "cell_type": "markdown",
      "source": [
        "## Problem1\n",
        "\n",
        "The cardinality of a set or collection of items is the number of unique items in that collection. Write a function called `cardinality_items` that takes a .csv text string file as input, where the format is as the below, and calculates the cardinality of the set of all the grocery items in any given dataset.\n",
        "\n",
        "What is the cardinality in “basket data.csv”?\n",
        "\n",
        "Data format:\n",
        "\n",
        "ketchup, butter, diapers\\\n",
        "bread, diapers, ketchup\\\n",
        "butter, bread, ketchup\n"
      ],
      "metadata": {
        "id": "-pNY_qsLpOPV"
      }
    },
    {
      "cell_type": "markdown",
      "source": [
        "### P1 Solution:"
      ],
      "metadata": {
        "id": "Cx9AX8gNtOr7"
      }
    },
    {
      "cell_type": "code",
      "source": [
        "def cardinality_items( filename ):\n",
        "  '''\n",
        "  Takes a filename \"*.csv\" and returns an integer\n",
        "  '''\n",
        "  # Read the CSV file into a Pandas DataFrame\n",
        "  df = pd.read_csv(filename, sep='delimiter', header=None)\n",
        "\n",
        "  # Stack the DataFrame to convert it to a single column\n",
        "  stacked = df.stack()\n",
        "\n",
        "  # Use set to get unique items and calculate cardinality\n",
        "  cardinality = len(set(stacked))\n",
        "\n",
        "  return cardinality"
      ],
      "metadata": {
        "id": "QJ-NAHG0qEW0"
      },
      "execution_count": 12,
      "outputs": []
    },
    {
      "cell_type": "code",
      "source": [
        "filename = 'https://raw.githubusercontent.com/qiaojunch/cs6220-data-mining/main/data/basket_data.csv'\n",
        "result = cardinality_items(filename)\n",
        "print(f\"Cardinality of grocery items: {result}\\n\")"
      ],
      "metadata": {
        "colab": {
          "base_uri": "https://localhost:8080/"
        },
        "id": "fL4bptbcv2n3",
        "outputId": "1e8736c5-c076-4355-8ab2-993969bd9e83"
      },
      "execution_count": 15,
      "outputs": [
        {
          "output_type": "stream",
          "name": "stdout",
          "text": [
            "Cardinality of grocery items: 78\n",
            "\n"
          ]
        },
        {
          "output_type": "stream",
          "name": "stderr",
          "text": [
            "<ipython-input-12-1470db2c1c18>:6: ParserWarning: Falling back to the 'python' engine because the 'c' engine does not support regex separators (separators > 1 char and different from '\\s+' are interpreted as regex); you can avoid this warning by specifying engine='python'.\n",
            "  df = pd.read_csv(filename, sep='delimiter', header=None)\n"
          ]
        }
      ]
    },
    {
      "cell_type": "markdown",
      "source": [
        "## Problem2\n",
        "\n",
        "Write a function called all_itemsets that takes a list of unique items and an integer k as input, and the output is a list of all possible unique itemsets with non-repeating k items. That is, the output is L = [S1, S2, · · · SN ], a list of all possible sets, where each Si has k items.\n",
        "\n",
        "For example,\n",
        "\n",
        "`all_itemsets( [\"ham\", \"cheese\", \"bread\"], 2 )`\n",
        "\n",
        "should result in:\n",
        "\n",
        "`[ [\"ham\", \"cheese\"], [\"ham\", \"bread\"], [’cheese\", \"bread\"] ]`\n",
        "\n",
        "You should not need any library functions."
      ],
      "metadata": {
        "id": "4N2PyH7rwfrq"
      }
    },
    {
      "cell_type": "markdown",
      "source": [
        "### P2 Solution:"
      ],
      "metadata": {
        "id": "XU06eVROxFK6"
      }
    },
    {
      "cell_type": "code",
      "source": [
        "def all_itemsets(items, k):\n",
        "    # Check if k is greater than the length of items\n",
        "    if k > len(items):\n",
        "        return []\n",
        "\n",
        "    # Initialize the list to store all itemsets\n",
        "    result = []\n",
        "\n",
        "    # Recursive function to generate itemsets\n",
        "    def generate_itemsets(current_itemset, remaining_items, remaining_k):\n",
        "        if remaining_k == 0:\n",
        "            result.append(current_itemset.copy())\n",
        "            return\n",
        "\n",
        "        for i, item in enumerate(remaining_items):\n",
        "            current_itemset.append(item)\n",
        "            generate_itemsets(current_itemset, remaining_items[i + 1:], remaining_k - 1)\n",
        "            current_itemset.pop()\n",
        "\n",
        "    generate_itemsets([], items, k)\n",
        "\n",
        "    return result"
      ],
      "metadata": {
        "id": "YO8zb2_-wlDY"
      },
      "execution_count": 16,
      "outputs": []
    },
    {
      "cell_type": "code",
      "source": [
        "# Example usage:\n",
        "items = [\"ham\", \"cheese\", \"bread\"]\n",
        "k = 2\n",
        "result = all_itemsets(items, k)\n",
        "print(result)"
      ],
      "metadata": {
        "colab": {
          "base_uri": "https://localhost:8080/"
        },
        "id": "1D3ZClXuzSk1",
        "outputId": "4f38027f-89d2-4557-ba42-c9e28d1f476f"
      },
      "execution_count": 17,
      "outputs": [
        {
          "output_type": "stream",
          "name": "stdout",
          "text": [
            "[['ham', 'cheese'], ['ham', 'bread'], ['cheese', 'bread']]\n"
          ]
        }
      ]
    },
    {
      "cell_type": "markdown",
      "source": [
        "## Netflix Dataset\n"
      ],
      "metadata": {
        "id": "1RwoOSlhz_iV"
      }
    },
    {
      "cell_type": "code",
      "execution_count": 1,
      "metadata": {
        "id": "bdM6NSRawQsw",
        "colab": {
          "base_uri": "https://localhost:8080/"
        },
        "outputId": "d3cba591-b7cb-49f7-846b-382061a77ebb"
      },
      "outputs": [
        {
          "output_type": "stream",
          "name": "stdout",
          "text": [
            "Data in combined_data_1.txt looks like this: \n",
            "\n",
            "1:\n",
            "1488844,3,2005-09-06\n",
            "822109,5,2005-05-13\n",
            "885013,4,2005-10-19\n",
            "30878,4,2005-12-26\n",
            "\n",
            "\n",
            "Data in movie_titles.csv looks like this: \n",
            "\n",
            "1,2003,Dinosaur Planet\n",
            "2,2004,Isle of Man TT 2004 Review\n",
            "3,1997,Character\n",
            "4,1994,Paula Abdul's Get Up & Dance\n",
            "5,2004,The Rise and Fall of ECW\n"
          ]
        }
      ],
      "source": [
        "#@title Download the data from website\n",
        "!wget -nc https://course.ccs.neu.edu/cs6220/fall2023/homework-1/netflix-data/movie_titles.csv\n",
        "!wget -nc https://course.ccs.neu.edu/cs6220/fall2023/homework-1/netflix-data/combined_data_1.txt\n",
        "!wget -nc https://course.ccs.neu.edu/cs6220/fall2023/homework-1/netflix-data/combined_data_2.txt\n",
        "!wget -nc https://course.ccs.neu.edu/cs6220/fall2023/homework-1/netflix-data/combined_data_3.txt\n",
        "!wget -nc https://course.ccs.neu.edu/cs6220/fall2023/homework-1/netflix-data/combined_data_4.txt\n",
        "\n",
        "from IPython.display import clear_output\n",
        "clear_output()\n",
        "\n",
        "print(\"Data in combined_data_1.txt looks like this: \\n\")\n",
        "!head -5 combined_data_1.txt\n",
        "\n",
        "print(\"\\n\\nData in movie_titles.csv looks like this: \\n\")\n",
        "!head -5 movie_titles.csv"
      ]
    },
    {
      "cell_type": "code",
      "source": [
        "f = open(\"movie_titles.csv\", encoding =\"cp1252\")\n",
        "data_lines = open(\"combined_data_1.txt\", \"r\").readlines()"
      ],
      "metadata": {
        "id": "yljOq5Mod1Q2"
      },
      "execution_count": 18,
      "outputs": []
    },
    {
      "cell_type": "markdown",
      "source": [
        "## Problem 3\n",
        "\n",
        "Let’s review combined_data_*.txt.\n",
        "\n",
        "a) How many total records of movie ratings are there in the entire dataset (over all of combined_data_*.txt)?\n",
        "\n",
        "b) How many total unique users are there in the entire dataset (over all of combined_data_*.txt)?\n",
        "\n",
        "c) What is the range of years that this data is valid over?"
      ],
      "metadata": {
        "id": "7MD7JApW5OFl"
      }
    },
    {
      "cell_type": "code",
      "source": [
        "import pandas as pd\n",
        "from glob import glob\n",
        "\n",
        "def analyze_movie_ratings(files_pattern):\n",
        "    # Step 1: Get a list of all file paths matching the pattern\n",
        "    file_paths = glob(files_pattern)\n",
        "\n",
        "    # Initialize variables for counting records and unique users\n",
        "    total_records = 0\n",
        "    unique_users = set()\n",
        "    years = []\n",
        "\n",
        "    # Iterate through each file\n",
        "    for file_path in file_paths:\n",
        "        # Step 2: Read the file into a list of lines\n",
        "        with open(file_path, 'r') as file:\n",
        "            lines = file.readlines()\n",
        "\n",
        "        # Initialize variables for movie_id and data\n",
        "        movie_id = None\n",
        "        data = []\n",
        "\n",
        "        # Step 3: Iterate through each line\n",
        "        for line in lines:\n",
        "            if line.endswith(\":\\n\"):\n",
        "                # Save the previous movie's data\n",
        "                if movie_id is not None:\n",
        "                    df = pd.DataFrame(data, columns=['CustomerID', 'Rating', 'Date'])\n",
        "                    total_records += len(df)\n",
        "                    unique_users.update(df['CustomerID'].unique())\n",
        "                    years.extend(pd.to_datetime(df['Date']).dt.year.tolist())\n",
        "\n",
        "                # Start a new movie\n",
        "                movie_id = int(line.rstrip(\":\\n\"))\n",
        "                data = []\n",
        "            else:\n",
        "                # Collect rating data\n",
        "                parts = line.strip().split(',')\n",
        "                data.append(parts)\n",
        "\n",
        "        # Process the last movie in the file\n",
        "        if movie_id is not None:\n",
        "            df = pd.DataFrame(data, columns=['CustomerID', 'Rating', 'Date'])\n",
        "            total_records += len(df)\n",
        "            unique_users.update(df['CustomerID'].unique())\n",
        "            years.extend(pd.to_datetime(df['Date']).dt.year.tolist())\n",
        "\n",
        "    # Step 4: Get the range of years\n",
        "    min_year = min(years)\n",
        "    max_year = max(years)\n",
        "\n",
        "    # Return results\n",
        "    return total_records, len(unique_users), (min_year, max_year)"
      ],
      "metadata": {
        "id": "82PO__TL4-WW"
      },
      "execution_count": 26,
      "outputs": []
    },
    {
      "cell_type": "code",
      "source": [
        "# Example usage:\n",
        "files_pattern = 'combined_data_*.txt'\n",
        "total_records, unique_users, years_range = analyze_movie_ratings(files_pattern)\n",
        "\n",
        "print(f'a) Total records of movie ratings: {total_records}')\n",
        "print(f'b) Total unique users: {unique_users}')\n",
        "print(f'c) Range of years: {years_range}')"
      ],
      "metadata": {
        "colab": {
          "base_uri": "https://localhost:8080/"
        },
        "id": "fEfgmkTI4-Nv",
        "outputId": "7e02c3f3-72cb-460d-db1d-ae1a74968430"
      },
      "execution_count": 27,
      "outputs": [
        {
          "output_type": "stream",
          "name": "stdout",
          "text": [
            "a) Total records of movie ratings: 100480507\n",
            "b) Total unique users: 480189\n",
            "c) Range of years: (1999, 2005)\n"
          ]
        }
      ]
    },
    {
      "cell_type": "markdown",
      "source": [
        "## Problem 4\n",
        "\n",
        "Let’s review movie_titles.csv.\n",
        "\n",
        "a) How many movies with unique names are there? That is to say, count the distinct names of the movies.\n",
        "\n",
        "b) How many movie names refer to four different movies?"
      ],
      "metadata": {
        "id": "gCneWeug9i7Y"
      }
    },
    {
      "cell_type": "code",
      "source": [],
      "metadata": {
        "id": "Iy5imeKl9qfv"
      },
      "execution_count": null,
      "outputs": []
    },
    {
      "cell_type": "markdown",
      "source": [
        "## Problem 5\n",
        "\n",
        "Let’s review both.\n",
        "\n",
        "a) How many users rated exactly 200 movies?\n",
        "\n",
        "b) Of these users, take the lowest user ID and print out the names of the movies that this person liked the most (all 5 star ratings)."
      ],
      "metadata": {
        "id": "PEXXS8uN9q9q"
      }
    },
    {
      "cell_type": "code",
      "source": [],
      "metadata": {
        "id": "1FCGwShi9zpt"
      },
      "execution_count": null,
      "outputs": []
    }
  ],
  "metadata": {
    "colab": {
      "provenance": [],
      "include_colab_link": true
    },
    "kernelspec": {
      "display_name": "Python 3",
      "name": "python3"
    },
    "language_info": {
      "name": "python"
    }
  },
  "nbformat": 4,
  "nbformat_minor": 0
}